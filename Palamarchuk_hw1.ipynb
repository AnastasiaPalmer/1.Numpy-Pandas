{
 "cells": [
  {
   "cell_type": "code",
   "execution_count": 1,
   "metadata": {},
   "outputs": [],
   "source": [
    "import numpy as np"
   ]
  },
  {
   "cell_type": "code",
   "execution_count": 2,
   "metadata": {},
   "outputs": [
    {
     "name": "stdout",
     "output_type": "stream",
     "text": [
      "Одновимірний масив з першими 20 натуральними числами: [ 1  2  3  4  5  6  7  8  9 10 11 12 13 14 15 16 17 18 19 20]\n"
     ]
    }
   ],
   "source": [
    "\n",
    "# 1. Створіть одновимірний масив з першими 20 натуральними числами та виведіть його значення.\n",
    "vector = np.arange(1, 21)\n",
    "print(\"Одновимірний масив з першими 20 натуральними числами:\", vector)\n"
   ]
  },
  {
   "cell_type": "code",
   "execution_count": 3,
   "metadata": {},
   "outputs": [
    {
     "name": "stdout",
     "output_type": "stream",
     "text": [
      "\n",
      "Двовимірний масив 4x4, заповнений одиницями: \n",
      " [[1. 1. 1. 1.]\n",
      " [1. 1. 1. 1.]\n",
      " [1. 1. 1. 1.]\n",
      " [1. 1. 1. 1.]]\n"
     ]
    }
   ],
   "source": [
    "# 2. Створіть двовимірний масив розміром 4x4, заповніть його одиницями та виведіть його значення.\n",
    "matrix = np.ones((4, 4))\n",
    "print(\"\\nДвовимірний масив 4x4, заповнений одиницями:\",\"\\n\", matrix)\n",
    "\n"
   ]
  },
  {
   "cell_type": "code",
   "execution_count": 4,
   "metadata": {},
   "outputs": [
    {
     "name": "stdout",
     "output_type": "stream",
     "text": [
      "\n",
      "Масив 5x5 з випадковими дійсними числами від -1 до 1: \n",
      " [[ 0 -1  0 -1  0]\n",
      " [ 1  0  1  1  1]\n",
      " [ 1  1 -1  1  0]\n",
      " [ 0  1  1  0 -1]\n",
      " [-1 -1  0  0  0]]\n"
     ]
    }
   ],
   "source": [
    "# 3. Створіть масив розміром 5x5, заповніть його випадковими дійсними числами в діапазоні від -1 до 1 та виведіть його значення.\n",
    "matrix = np.random.randint(-1, 2, size=(5, 5))\n",
    "print(\"\\nМасив 5x5 з випадковими дійсними числами від -1 до 1:\",\"\\n\", matrix)\n",
    "\n"
   ]
  },
  {
   "cell_type": "code",
   "execution_count": 5,
   "metadata": {},
   "outputs": [
    {
     "name": "stdout",
     "output_type": "stream",
     "text": [
      "\n",
      "Масив 3x3 з випадковими дійсними числами від 0 до 1: \n",
      " [[1 1 0]\n",
      " [0 1 1]\n",
      " [0 1 1]]\n"
     ]
    }
   ],
   "source": [
    "# 4. Створіть масив розміром 3x3, заповніть його випадковими дійсними числами в діапазоні від 0 до 1 та виведіть його значення.\n",
    "matrix = np.random.randint(0, 2, size=(3, 3))\n",
    "print(\"\\nМасив 3x3 з випадковими дійсними числами від 0 до 1:\",\"\\n\", matrix)\n",
    "\n"
   ]
  },
  {
   "cell_type": "code",
   "execution_count": 6,
   "metadata": {},
   "outputs": [
    {
     "name": "stdout",
     "output_type": "stream",
     "text": [
      "Вектор 1:        [ 8 19 11  9  6 11]\n",
      "Вектор 2:        [20  1  4 15  6 10]\n",
      "Сума масивів:    [28 20 15 24 12 21]\n",
      "Різниця масивів: [-12  18   7  -6   0   1]\n",
      "Добуток масивів: [160  19  44 135  36 110]\n"
     ]
    }
   ],
   "source": [
    "# 5. Створіть два одновимірних масиви розміром 6, заповніть їх випадковими цілими числами в діапазоні від 1 до 20 та виконайте на них поелементні операції.\n",
    "\n",
    "vector1 = np.random.randint(1, 21, size=(6))\n",
    "vector2 = np.random.randint(1, 21, size=(6))\n",
    "\n",
    "suma = vector1 + vector2\n",
    "rizn = vector1 - vector2\n",
    "dob = vector1 * vector2\n",
    "\n",
    "print(\"Вектор 1:       \", vector1)\n",
    "print(\"Вектор 2:       \", vector2)\n",
    "print(\"Сума масивів:   \", suma,)\n",
    "print(\"Різниця масивів:\", rizn)\n",
    "print(\"Добуток масивів:\", dob)"
   ]
  },
  {
   "cell_type": "code",
   "execution_count": 7,
   "metadata": {},
   "outputs": [
    {
     "name": "stdout",
     "output_type": "stream",
     "text": [
      "Матриця 3x2:     \n",
      " [[1 3]\n",
      " [2 1]\n",
      " [3 5]]\n",
      "Матриця 2x4:     \n",
      " [[4 2 2 2]\n",
      " [1 1 3 4]]\n",
      "Добуток матриць: \n",
      " [[ 7  5 11 14]\n",
      " [ 9  5  7  8]\n",
      " [17 11 21 26]]\n"
     ]
    }
   ],
   "source": [
    "# 6. Створіть дві матриці розміром 3x2 та 2x4, заповніть їх випадковими цілими числами в діапазоні від 1 до 5 та перемножте їх між собою.\n",
    "matrix1 = np.random.randint(1, 6, size=(3, 2))\n",
    "matrix2 = np.random.randint(1, 6, size=(2, 4))\n",
    "\n",
    "dob = np.dot(matrix1, matrix2)\n",
    "print(\"Матриця 3x2:     \\n\", matrix1)\n",
    "print(\"Матриця 2x4:     \\n\", matrix2)\n",
    "print(\"Добуток матриць: \\n\", dob)\n"
   ]
  },
  {
   "cell_type": "code",
   "execution_count": 8,
   "metadata": {},
   "outputs": [
    {
     "name": "stdout",
     "output_type": "stream",
     "text": [
      "Матриця 3x3:           \n",
      " [[1 0 0]\n",
      " [1 0 0]\n",
      " [0 1 0]]\n",
      "Транспонована матриця: \n",
      " [[1 1 0]\n",
      " [0 0 1]\n",
      " [0 0 0]]\n"
     ]
    }
   ],
   "source": [
    "# 7. Створіть матрицю розміром 3x3, заповніть її випадковими дійсними числами в діапазоні від 0 до 1 та транспонуйте її.\n",
    "matrix = np.random.randint(0, 2, size=(3, 3))\n",
    "\n",
    "print(\"Матриця 3x3:           \\n\", matrix)\n",
    "print(\"Транспонована матриця: \\n\", np.transpose(matrix))\n",
    "\n",
    "\n"
   ]
  },
  {
   "cell_type": "code",
   "execution_count": 9,
   "metadata": {},
   "outputs": [
    {
     "name": "stdout",
     "output_type": "stream",
     "text": [
      "Вектор 1: \n",
      " [[ 1  6  4]\n",
      " [ 8  8  8]\n",
      " [10  1  4]]\n",
      "Вектор 2:\n",
      " [[ 5  9  3]\n",
      " [10  2  9]\n",
      " [10  3 10]]\n",
      "Різниця масивів: \n",
      " [[-4 -3  1]\n",
      " [-2  6 -1]\n",
      " [ 0 -2 -6]]\n"
     ]
    }
   ],
   "source": [
    "# 8. Створіть дві матриці розміром 3x3, заповніть їх випадковими цілими числами в діапазоні від 1 до 10 та знайдіть їхню різницю.\n",
    "matrix1 = np.random.randint(1, 11, size=(3, 3))\n",
    "matrix2 = np.random.randint(1, 11, size=(3, 3))\n",
    "\n",
    "rizn = matrix1 - matrix2\n",
    "\n",
    "print(\"Вектор 1: \\n\", matrix1)\n",
    "print(\"Вектор 2:\\n\", matrix2)\n",
    "\n",
    "print(\"Різниця масивів: \\n\", rizn)\n",
    "\n"
   ]
  },
  {
   "cell_type": "code",
   "execution_count": 10,
   "metadata": {},
   "outputs": [
    {
     "name": "stdout",
     "output_type": "stream",
     "text": [
      "Вектор 1: \n",
      " [[ 4  5 -2]\n",
      " [ 3  0  5]\n",
      " [-2 -1 -1]]\n",
      "Вектор 2:\n",
      " [[ 5  1 -1]\n",
      " [-3 -1  2]\n",
      " [ 0  3  3]]\n",
      "Різниця масивів: \n",
      " [[20  5  2]\n",
      " [-9  0 10]\n",
      " [ 0 -3 -3]]\n"
     ]
    }
   ],
   "source": [
    "# 9. Створіть дві матриці розміром 3x3, заповніть їх випадковими цілими числами в діапазоні від -5 до 5 та знайдіть їх добуток.\n",
    "matrix1 = np.random.randint(-5, 6, size=(3, 3))\n",
    "matrix2 = np.random.randint(-5, 6, size=(3, 3))\n",
    "\n",
    "dob = matrix1 * matrix2\n",
    "\n",
    "print(\"Вектор 1: \\n\", matrix1)\n",
    "print(\"Вектор 2:\\n\", matrix2)\n",
    "\n",
    "print(\"Різниця масивів: \\n\", dob)\n",
    "\n"
   ]
  },
  {
   "cell_type": "code",
   "execution_count": 104,
   "metadata": {},
   "outputs": [
    {
     "name": "stdout",
     "output_type": "stream",
     "text": [
      "Матриця 3x3: \n",
      " [[ 0  1  0]\n",
      " [ 0 -1  0]\n",
      " [ 1  0 -1]]\n",
      "Вектор-стовпчик:\n",
      " [[ 1]\n",
      " [-1]\n",
      " [ 0]]\n"
     ]
    }
   ],
   "source": [
    "# 10. Створіть матрицю розміром 3x3, заповніть її випадковими дійсними числами в діапазоні від -1 до 1 \n",
    "# та знайдіть вектор-стовпчик, що містить суму елементів кожного рядка матриці.\n",
    "\n",
    "matrix = np.random.randint(-1, 2, size=(3, 3))\n",
    "print(\"Матриця 3x3: \\n\", matrix)\n",
    "\n",
    "row_sums = matrix.sum(axis=1)\n",
    "vector = row_sums.reshape(-1, 1)\n",
    "print(\"Вектор-стовпчик:\\n\", vector)"
   ]
  },
  {
   "cell_type": "code",
   "execution_count": 130,
   "metadata": {},
   "outputs": [
    {
     "data": {
      "text/plain": "                      регіон   1950   1960   1970  1990  1992  1994  1996  \\\n0  Автономна Республіка Крим  230.0  206.0  160.0   130   109    93    80   \n1          Вінницька область  224.0  192.0  142.0   124   119   107   103   \n2          Волинська область  247.0  250.0  179.0   153   150   137   125   \n3   Дніпропетровська область  204.0  204.0  151.0   123   106    92    80   \n4           Донецька область  271.0  214.0  140.0   109    94    82    70   \n5        Житомирська область  261.0  223.0  159.0   129   128   118   108   \n6       Закарпатська область  314.0  273.0  207.0   168   161   138   128   \n7         Запорізька область  219.0  197.0  150.0   124   107    92    81   \n8  Івано-Франківська область  243.0  248.0  182.0   155   144   131   122   \n9           Київська область  204.0  189.0  156.0   123   111    99    92   \n\n   2000  2004  2008  2012   2014  \n0    73    90   119   126    NaN  \n1    84    90   108   112  109.0  \n2   112   119   148   148  141.0  \n3    71    89   110   112  111.0  \n4    61    76    98    98   82.0  \n5    89    98   113   122  120.0  \n6   115   124   147   151  146.0  \n7    71    85   103   106  106.0  \n8   103   107   123   124  122.0  \n9    73    90   117   122  121.0  ",
      "text/html": "<div>\n<style scoped>\n    .dataframe tbody tr th:only-of-type {\n        vertical-align: middle;\n    }\n\n    .dataframe tbody tr th {\n        vertical-align: top;\n    }\n\n    .dataframe thead th {\n        text-align: right;\n    }\n</style>\n<table border=\"1\" class=\"dataframe\">\n  <thead>\n    <tr style=\"text-align: right;\">\n      <th></th>\n      <th>регіон</th>\n      <th>1950</th>\n      <th>1960</th>\n      <th>1970</th>\n      <th>1990</th>\n      <th>1992</th>\n      <th>1994</th>\n      <th>1996</th>\n      <th>2000</th>\n      <th>2004</th>\n      <th>2008</th>\n      <th>2012</th>\n      <th>2014</th>\n    </tr>\n  </thead>\n  <tbody>\n    <tr>\n      <th>0</th>\n      <td>Автономна Республіка Крим</td>\n      <td>230.0</td>\n      <td>206.0</td>\n      <td>160.0</td>\n      <td>130</td>\n      <td>109</td>\n      <td>93</td>\n      <td>80</td>\n      <td>73</td>\n      <td>90</td>\n      <td>119</td>\n      <td>126</td>\n      <td>NaN</td>\n    </tr>\n    <tr>\n      <th>1</th>\n      <td>Вінницька область</td>\n      <td>224.0</td>\n      <td>192.0</td>\n      <td>142.0</td>\n      <td>124</td>\n      <td>119</td>\n      <td>107</td>\n      <td>103</td>\n      <td>84</td>\n      <td>90</td>\n      <td>108</td>\n      <td>112</td>\n      <td>109.0</td>\n    </tr>\n    <tr>\n      <th>2</th>\n      <td>Волинська область</td>\n      <td>247.0</td>\n      <td>250.0</td>\n      <td>179.0</td>\n      <td>153</td>\n      <td>150</td>\n      <td>137</td>\n      <td>125</td>\n      <td>112</td>\n      <td>119</td>\n      <td>148</td>\n      <td>148</td>\n      <td>141.0</td>\n    </tr>\n    <tr>\n      <th>3</th>\n      <td>Дніпропетровська область</td>\n      <td>204.0</td>\n      <td>204.0</td>\n      <td>151.0</td>\n      <td>123</td>\n      <td>106</td>\n      <td>92</td>\n      <td>80</td>\n      <td>71</td>\n      <td>89</td>\n      <td>110</td>\n      <td>112</td>\n      <td>111.0</td>\n    </tr>\n    <tr>\n      <th>4</th>\n      <td>Донецька область</td>\n      <td>271.0</td>\n      <td>214.0</td>\n      <td>140.0</td>\n      <td>109</td>\n      <td>94</td>\n      <td>82</td>\n      <td>70</td>\n      <td>61</td>\n      <td>76</td>\n      <td>98</td>\n      <td>98</td>\n      <td>82.0</td>\n    </tr>\n    <tr>\n      <th>5</th>\n      <td>Житомирська область</td>\n      <td>261.0</td>\n      <td>223.0</td>\n      <td>159.0</td>\n      <td>129</td>\n      <td>128</td>\n      <td>118</td>\n      <td>108</td>\n      <td>89</td>\n      <td>98</td>\n      <td>113</td>\n      <td>122</td>\n      <td>120.0</td>\n    </tr>\n    <tr>\n      <th>6</th>\n      <td>Закарпатська область</td>\n      <td>314.0</td>\n      <td>273.0</td>\n      <td>207.0</td>\n      <td>168</td>\n      <td>161</td>\n      <td>138</td>\n      <td>128</td>\n      <td>115</td>\n      <td>124</td>\n      <td>147</td>\n      <td>151</td>\n      <td>146.0</td>\n    </tr>\n    <tr>\n      <th>7</th>\n      <td>Запорізька область</td>\n      <td>219.0</td>\n      <td>197.0</td>\n      <td>150.0</td>\n      <td>124</td>\n      <td>107</td>\n      <td>92</td>\n      <td>81</td>\n      <td>71</td>\n      <td>85</td>\n      <td>103</td>\n      <td>106</td>\n      <td>106.0</td>\n    </tr>\n    <tr>\n      <th>8</th>\n      <td>Івано-Франківська область</td>\n      <td>243.0</td>\n      <td>248.0</td>\n      <td>182.0</td>\n      <td>155</td>\n      <td>144</td>\n      <td>131</td>\n      <td>122</td>\n      <td>103</td>\n      <td>107</td>\n      <td>123</td>\n      <td>124</td>\n      <td>122.0</td>\n    </tr>\n    <tr>\n      <th>9</th>\n      <td>Київська область</td>\n      <td>204.0</td>\n      <td>189.0</td>\n      <td>156.0</td>\n      <td>123</td>\n      <td>111</td>\n      <td>99</td>\n      <td>92</td>\n      <td>73</td>\n      <td>90</td>\n      <td>117</td>\n      <td>122</td>\n      <td>121.0</td>\n    </tr>\n  </tbody>\n</table>\n</div>"
     },
     "execution_count": 130,
     "metadata": {},
     "output_type": "execute_result"
    }
   ],
   "source": [
    "# 1.\tВідобразити перші 10 рядків таблиці за допомогою методу head\n",
    "\n",
    "import pandas as pd\n",
    "\n",
    "url = \"https://uk.wikipedia.org/wiki/%D0%9D%D0%B0%D1%80%D0%BE%D0%B4%D0%B6%D1%83%D0%B2%D0%B0%D0%BD%D1%96%D1%81%D1%82%D1%8C_%D0%B2_%D0%A3%D0%BA%D1%80%D0%B0%D1%97%D0%BD%D1%96\"\n",
    "\n",
    "table = pd.read_html(url)[20]\n",
    "\n",
    "df = table\n",
    "df.head(10)"
   ]
  },
  {
   "cell_type": "code",
   "execution_count": 131,
   "metadata": {},
   "outputs": [
    {
     "data": {
      "text/plain": "(28, 13)"
     },
     "execution_count": 131,
     "metadata": {},
     "output_type": "execute_result"
    }
   ],
   "source": [
    "# 2.\tВизначити кількість рядків і стовпців в датафреймі (метод shape)\n",
    "\n",
    "df.shape\n"
   ]
  },
  {
   "cell_type": "code",
   "execution_count": 132,
   "metadata": {},
   "outputs": [
    {
     "data": {
      "text/plain": "                       регіон   1950   1960   1970  1990  1992  1994  1996  \\\n0   Автономна Республіка Крим  230.0  206.0  160.0   130   109    93    80   \n1           Вінницька область  224.0  192.0  142.0   124   119   107   103   \n2           Волинська область  247.0  250.0  179.0   153   150   137   125   \n3    Дніпропетровська область  204.0  204.0  151.0   123   106    92    80   \n4            Донецька область  271.0  214.0  140.0   109    94    82    70   \n5         Житомирська область  261.0  223.0  159.0   129   128   118   108   \n6        Закарпатська область  314.0  273.0  207.0   168   161   138   128   \n7          Запорізька область  219.0  197.0  150.0   124   107    92    81   \n8   Івано-Франківська область  243.0  248.0  182.0   155   144   131   122   \n9            Київська область  204.0  189.0  156.0   123   111    99    92   \n10     Кіровоградська область  216.0  171.0  145.0   126   119   107    96   \n11          Луганська область  262.0  235.0  144.0   116   101    84    72   \n12          Львівська область  234.0  240.0  171.0   140   132   117   111   \n13       Миколаївська область  211.0  194.0  155.0   137   123   107    96   \n14            Одеська область  241.0  192.0  148.0   126   114   100    92   \n15         Полтавська область  186.0  163.0  131.0   118   108    95    88   \n16         Рівненська область  269.0  267.0  193.0   158   154   145   132   \n17            Сумська область  216.0  184.0  132.0   115   105    92    84   \n18      Тернопільська область  213.0  216.0  157.0   142   138   123   115   \n19         Харківська область  197.0  173.0  140.0   114    98    83    76   \n20         Херсонська область  208.0  214.0  166.0   143   130   111    98   \n21        Хмельницька область  234.0  198.0  148.0   129   124   111   106   \n22          Черкаська область  205.0  179.0  144.0   123   114   100    93   \n23        Чернівецька область  247.0  218.0  170.0   148   140   128   121   \n24       Чернігівська область  220.0  183.0  127.0   108    98    88    82   \n25                       Київ    NaN  174.0  159.0   120    97    81    76   \n26    Севастополь (міськрада)    NaN    NaN    NaN   125    96    76    69   \n27                    Україна  228.0  205.0  152.0   126   114   100    92   \n\n    2000  2004  2008  2012   2014  \n0     73    90   119   126    NaN  \n1     84    90   108   112  109.0  \n2    112   119   148   148  141.0  \n3     71    89   110   112  111.0  \n4     61    76    98    98   82.0  \n5     89    98   113   122  120.0  \n6    115   124   147   151  146.0  \n7     71    85   103   106  106.0  \n8    103   107   123   124  122.0  \n9     73    90   117   122  121.0  \n10    79    86   102   110  108.0  \n11    62    73    95    96   51.0  \n12    91   101   113   119  119.0  \n13    80    90   112   115  112.0  \n14    80    96   120   127  123.0  \n15    70    75    97    99  100.0  \n16   118   125   148   159  148.0  \n17    70    72    91    97   92.0  \n18    92    99   113   113  109.0  \n19    68    80    98    99  101.0  \n20    85    91   113   117  115.0  \n21    85    91   110   113  112.0  \n22    75    77    95   100   98.0  \n23   101   106   122   128  129.0  \n24    69    75    89    94   90.0  \n25    73    98   116   120  121.0  \n26    70    97   110   120    NaN  \n27    78    90   110   114  108.0  ",
      "text/html": "<div>\n<style scoped>\n    .dataframe tbody tr th:only-of-type {\n        vertical-align: middle;\n    }\n\n    .dataframe tbody tr th {\n        vertical-align: top;\n    }\n\n    .dataframe thead th {\n        text-align: right;\n    }\n</style>\n<table border=\"1\" class=\"dataframe\">\n  <thead>\n    <tr style=\"text-align: right;\">\n      <th></th>\n      <th>регіон</th>\n      <th>1950</th>\n      <th>1960</th>\n      <th>1970</th>\n      <th>1990</th>\n      <th>1992</th>\n      <th>1994</th>\n      <th>1996</th>\n      <th>2000</th>\n      <th>2004</th>\n      <th>2008</th>\n      <th>2012</th>\n      <th>2014</th>\n    </tr>\n  </thead>\n  <tbody>\n    <tr>\n      <th>0</th>\n      <td>Автономна Республіка Крим</td>\n      <td>230.0</td>\n      <td>206.0</td>\n      <td>160.0</td>\n      <td>130</td>\n      <td>109</td>\n      <td>93</td>\n      <td>80</td>\n      <td>73</td>\n      <td>90</td>\n      <td>119</td>\n      <td>126</td>\n      <td>NaN</td>\n    </tr>\n    <tr>\n      <th>1</th>\n      <td>Вінницька область</td>\n      <td>224.0</td>\n      <td>192.0</td>\n      <td>142.0</td>\n      <td>124</td>\n      <td>119</td>\n      <td>107</td>\n      <td>103</td>\n      <td>84</td>\n      <td>90</td>\n      <td>108</td>\n      <td>112</td>\n      <td>109.0</td>\n    </tr>\n    <tr>\n      <th>2</th>\n      <td>Волинська область</td>\n      <td>247.0</td>\n      <td>250.0</td>\n      <td>179.0</td>\n      <td>153</td>\n      <td>150</td>\n      <td>137</td>\n      <td>125</td>\n      <td>112</td>\n      <td>119</td>\n      <td>148</td>\n      <td>148</td>\n      <td>141.0</td>\n    </tr>\n    <tr>\n      <th>3</th>\n      <td>Дніпропетровська область</td>\n      <td>204.0</td>\n      <td>204.0</td>\n      <td>151.0</td>\n      <td>123</td>\n      <td>106</td>\n      <td>92</td>\n      <td>80</td>\n      <td>71</td>\n      <td>89</td>\n      <td>110</td>\n      <td>112</td>\n      <td>111.0</td>\n    </tr>\n    <tr>\n      <th>4</th>\n      <td>Донецька область</td>\n      <td>271.0</td>\n      <td>214.0</td>\n      <td>140.0</td>\n      <td>109</td>\n      <td>94</td>\n      <td>82</td>\n      <td>70</td>\n      <td>61</td>\n      <td>76</td>\n      <td>98</td>\n      <td>98</td>\n      <td>82.0</td>\n    </tr>\n    <tr>\n      <th>5</th>\n      <td>Житомирська область</td>\n      <td>261.0</td>\n      <td>223.0</td>\n      <td>159.0</td>\n      <td>129</td>\n      <td>128</td>\n      <td>118</td>\n      <td>108</td>\n      <td>89</td>\n      <td>98</td>\n      <td>113</td>\n      <td>122</td>\n      <td>120.0</td>\n    </tr>\n    <tr>\n      <th>6</th>\n      <td>Закарпатська область</td>\n      <td>314.0</td>\n      <td>273.0</td>\n      <td>207.0</td>\n      <td>168</td>\n      <td>161</td>\n      <td>138</td>\n      <td>128</td>\n      <td>115</td>\n      <td>124</td>\n      <td>147</td>\n      <td>151</td>\n      <td>146.0</td>\n    </tr>\n    <tr>\n      <th>7</th>\n      <td>Запорізька область</td>\n      <td>219.0</td>\n      <td>197.0</td>\n      <td>150.0</td>\n      <td>124</td>\n      <td>107</td>\n      <td>92</td>\n      <td>81</td>\n      <td>71</td>\n      <td>85</td>\n      <td>103</td>\n      <td>106</td>\n      <td>106.0</td>\n    </tr>\n    <tr>\n      <th>8</th>\n      <td>Івано-Франківська область</td>\n      <td>243.0</td>\n      <td>248.0</td>\n      <td>182.0</td>\n      <td>155</td>\n      <td>144</td>\n      <td>131</td>\n      <td>122</td>\n      <td>103</td>\n      <td>107</td>\n      <td>123</td>\n      <td>124</td>\n      <td>122.0</td>\n    </tr>\n    <tr>\n      <th>9</th>\n      <td>Київська область</td>\n      <td>204.0</td>\n      <td>189.0</td>\n      <td>156.0</td>\n      <td>123</td>\n      <td>111</td>\n      <td>99</td>\n      <td>92</td>\n      <td>73</td>\n      <td>90</td>\n      <td>117</td>\n      <td>122</td>\n      <td>121.0</td>\n    </tr>\n    <tr>\n      <th>10</th>\n      <td>Кіровоградська область</td>\n      <td>216.0</td>\n      <td>171.0</td>\n      <td>145.0</td>\n      <td>126</td>\n      <td>119</td>\n      <td>107</td>\n      <td>96</td>\n      <td>79</td>\n      <td>86</td>\n      <td>102</td>\n      <td>110</td>\n      <td>108.0</td>\n    </tr>\n    <tr>\n      <th>11</th>\n      <td>Луганська область</td>\n      <td>262.0</td>\n      <td>235.0</td>\n      <td>144.0</td>\n      <td>116</td>\n      <td>101</td>\n      <td>84</td>\n      <td>72</td>\n      <td>62</td>\n      <td>73</td>\n      <td>95</td>\n      <td>96</td>\n      <td>51.0</td>\n    </tr>\n    <tr>\n      <th>12</th>\n      <td>Львівська область</td>\n      <td>234.0</td>\n      <td>240.0</td>\n      <td>171.0</td>\n      <td>140</td>\n      <td>132</td>\n      <td>117</td>\n      <td>111</td>\n      <td>91</td>\n      <td>101</td>\n      <td>113</td>\n      <td>119</td>\n      <td>119.0</td>\n    </tr>\n    <tr>\n      <th>13</th>\n      <td>Миколаївська область</td>\n      <td>211.0</td>\n      <td>194.0</td>\n      <td>155.0</td>\n      <td>137</td>\n      <td>123</td>\n      <td>107</td>\n      <td>96</td>\n      <td>80</td>\n      <td>90</td>\n      <td>112</td>\n      <td>115</td>\n      <td>112.0</td>\n    </tr>\n    <tr>\n      <th>14</th>\n      <td>Одеська область</td>\n      <td>241.0</td>\n      <td>192.0</td>\n      <td>148.0</td>\n      <td>126</td>\n      <td>114</td>\n      <td>100</td>\n      <td>92</td>\n      <td>80</td>\n      <td>96</td>\n      <td>120</td>\n      <td>127</td>\n      <td>123.0</td>\n    </tr>\n    <tr>\n      <th>15</th>\n      <td>Полтавська область</td>\n      <td>186.0</td>\n      <td>163.0</td>\n      <td>131.0</td>\n      <td>118</td>\n      <td>108</td>\n      <td>95</td>\n      <td>88</td>\n      <td>70</td>\n      <td>75</td>\n      <td>97</td>\n      <td>99</td>\n      <td>100.0</td>\n    </tr>\n    <tr>\n      <th>16</th>\n      <td>Рівненська область</td>\n      <td>269.0</td>\n      <td>267.0</td>\n      <td>193.0</td>\n      <td>158</td>\n      <td>154</td>\n      <td>145</td>\n      <td>132</td>\n      <td>118</td>\n      <td>125</td>\n      <td>148</td>\n      <td>159</td>\n      <td>148.0</td>\n    </tr>\n    <tr>\n      <th>17</th>\n      <td>Сумська область</td>\n      <td>216.0</td>\n      <td>184.0</td>\n      <td>132.0</td>\n      <td>115</td>\n      <td>105</td>\n      <td>92</td>\n      <td>84</td>\n      <td>70</td>\n      <td>72</td>\n      <td>91</td>\n      <td>97</td>\n      <td>92.0</td>\n    </tr>\n    <tr>\n      <th>18</th>\n      <td>Тернопільська область</td>\n      <td>213.0</td>\n      <td>216.0</td>\n      <td>157.0</td>\n      <td>142</td>\n      <td>138</td>\n      <td>123</td>\n      <td>115</td>\n      <td>92</td>\n      <td>99</td>\n      <td>113</td>\n      <td>113</td>\n      <td>109.0</td>\n    </tr>\n    <tr>\n      <th>19</th>\n      <td>Харківська область</td>\n      <td>197.0</td>\n      <td>173.0</td>\n      <td>140.0</td>\n      <td>114</td>\n      <td>98</td>\n      <td>83</td>\n      <td>76</td>\n      <td>68</td>\n      <td>80</td>\n      <td>98</td>\n      <td>99</td>\n      <td>101.0</td>\n    </tr>\n    <tr>\n      <th>20</th>\n      <td>Херсонська область</td>\n      <td>208.0</td>\n      <td>214.0</td>\n      <td>166.0</td>\n      <td>143</td>\n      <td>130</td>\n      <td>111</td>\n      <td>98</td>\n      <td>85</td>\n      <td>91</td>\n      <td>113</td>\n      <td>117</td>\n      <td>115.0</td>\n    </tr>\n    <tr>\n      <th>21</th>\n      <td>Хмельницька область</td>\n      <td>234.0</td>\n      <td>198.0</td>\n      <td>148.0</td>\n      <td>129</td>\n      <td>124</td>\n      <td>111</td>\n      <td>106</td>\n      <td>85</td>\n      <td>91</td>\n      <td>110</td>\n      <td>113</td>\n      <td>112.0</td>\n    </tr>\n    <tr>\n      <th>22</th>\n      <td>Черкаська область</td>\n      <td>205.0</td>\n      <td>179.0</td>\n      <td>144.0</td>\n      <td>123</td>\n      <td>114</td>\n      <td>100</td>\n      <td>93</td>\n      <td>75</td>\n      <td>77</td>\n      <td>95</td>\n      <td>100</td>\n      <td>98.0</td>\n    </tr>\n    <tr>\n      <th>23</th>\n      <td>Чернівецька область</td>\n      <td>247.0</td>\n      <td>218.0</td>\n      <td>170.0</td>\n      <td>148</td>\n      <td>140</td>\n      <td>128</td>\n      <td>121</td>\n      <td>101</td>\n      <td>106</td>\n      <td>122</td>\n      <td>128</td>\n      <td>129.0</td>\n    </tr>\n    <tr>\n      <th>24</th>\n      <td>Чернігівська область</td>\n      <td>220.0</td>\n      <td>183.0</td>\n      <td>127.0</td>\n      <td>108</td>\n      <td>98</td>\n      <td>88</td>\n      <td>82</td>\n      <td>69</td>\n      <td>75</td>\n      <td>89</td>\n      <td>94</td>\n      <td>90.0</td>\n    </tr>\n    <tr>\n      <th>25</th>\n      <td>Київ</td>\n      <td>NaN</td>\n      <td>174.0</td>\n      <td>159.0</td>\n      <td>120</td>\n      <td>97</td>\n      <td>81</td>\n      <td>76</td>\n      <td>73</td>\n      <td>98</td>\n      <td>116</td>\n      <td>120</td>\n      <td>121.0</td>\n    </tr>\n    <tr>\n      <th>26</th>\n      <td>Севастополь (міськрада)</td>\n      <td>NaN</td>\n      <td>NaN</td>\n      <td>NaN</td>\n      <td>125</td>\n      <td>96</td>\n      <td>76</td>\n      <td>69</td>\n      <td>70</td>\n      <td>97</td>\n      <td>110</td>\n      <td>120</td>\n      <td>NaN</td>\n    </tr>\n    <tr>\n      <th>27</th>\n      <td>Україна</td>\n      <td>228.0</td>\n      <td>205.0</td>\n      <td>152.0</td>\n      <td>126</td>\n      <td>114</td>\n      <td>100</td>\n      <td>92</td>\n      <td>78</td>\n      <td>90</td>\n      <td>110</td>\n      <td>114</td>\n      <td>108.0</td>\n    </tr>\n  </tbody>\n</table>\n</div>"
     },
     "execution_count": 132,
     "metadata": {},
     "output_type": "execute_result"
    }
   ],
   "source": [
    "# 3.\tЗамініть значення \" \" в таблиці значеннями NaN\n",
    "\n",
    "df = df.replace(\" \", None)\n",
    "df\n"
   ]
  },
  {
   "cell_type": "code",
   "execution_count": 133,
   "outputs": [
    {
     "data": {
      "text/plain": "регіон     object\n1950      float64\n1960      float64\n1970      float64\n1990        int64\n1992        int64\n1994        int64\n1996        int64\n2000        int64\n2004        int64\n2008        int64\n2012        int64\n2014      float64\ndtype: object"
     },
     "execution_count": 133,
     "metadata": {},
     "output_type": "execute_result"
    }
   ],
   "source": [
    "# 4.\tВизначте типи всіх стовпців за допомогою dataframe.dtypes\n",
    "df.dtypes"
   ],
   "metadata": {
    "collapsed": false
   }
  },
  {
   "cell_type": "code",
   "execution_count": 134,
   "outputs": [
    {
     "data": {
      "text/plain": "1950    int32\n1960    int32\n1970    int32\n1990    int32\n1992    int32\n1994    int32\n1996    int32\n2000    int32\n2004    int32\n2008    int32\n2012    int32\n2014    int32\ndtype: object"
     },
     "execution_count": 134,
     "metadata": {},
     "output_type": "execute_result"
    }
   ],
   "source": [
    "# 5.\tЗамініть типи нечислових стовпців числовими стовпцями. Це стовпці, у яких було розташовано символ \"—\"\n",
    "\n",
    "df = df.set_index(\"регіон\")\n",
    "df = df.fillna(0).astype(int)\n",
    "df.dtypes\n",
    "# df.astype('int64')"
   ],
   "metadata": {
    "collapsed": false
   }
  },
  {
   "cell_type": "code",
   "execution_count": null,
   "outputs": [],
   "source": [
    "# 6.\tОбчислити, скільки проміжків у кожному стовпці (використовуйте методи isnull, sum та len)\n"
   ],
   "metadata": {
    "collapsed": false
   }
  },
  {
   "cell_type": "code",
   "execution_count": 135,
   "outputs": [
    {
     "data": {
      "text/plain": "                           1950  1960  1970  1990  1992  1994  1996  2000  \\\nрегіон                                                                      \nАвтономна Республіка Крим   230   206   160   130   109    93    80    73   \nВінницька область           224   192   142   124   119   107   103    84   \nВолинська область           247   250   179   153   150   137   125   112   \nДніпропетровська область    204   204   151   123   106    92    80    71   \nДонецька область            271   214   140   109    94    82    70    61   \nЖитомирська область         261   223   159   129   128   118   108    89   \nЗакарпатська область        314   273   207   168   161   138   128   115   \nЗапорізька область          219   197   150   124   107    92    81    71   \nІвано-Франківська область   243   248   182   155   144   131   122   103   \nКиївська область            204   189   156   123   111    99    92    73   \nКіровоградська область      216   171   145   126   119   107    96    79   \nЛуганська область           262   235   144   116   101    84    72    62   \nЛьвівська область           234   240   171   140   132   117   111    91   \nМиколаївська область        211   194   155   137   123   107    96    80   \nОдеська область             241   192   148   126   114   100    92    80   \nПолтавська область          186   163   131   118   108    95    88    70   \nРівненська область          269   267   193   158   154   145   132   118   \nСумська область             216   184   132   115   105    92    84    70   \nТернопільська область       213   216   157   142   138   123   115    92   \nХарківська область          197   173   140   114    98    83    76    68   \nХерсонська область          208   214   166   143   130   111    98    85   \nХмельницька область         234   198   148   129   124   111   106    85   \nЧеркаська область           205   179   144   123   114   100    93    75   \nЧернівецька область         247   218   170   148   140   128   121   101   \nЧернігівська область        220   183   127   108    98    88    82    69   \nКиїв                          0   174   159   120    97    81    76    73   \nСевастополь (міськрада)       0     0     0   125    96    76    69    70   \n\n                           2004  2008  2012  2014  \nрегіон                                             \nАвтономна Республіка Крим    90   119   126     0  \nВінницька область            90   108   112   109  \nВолинська область           119   148   148   141  \nДніпропетровська область     89   110   112   111  \nДонецька область             76    98    98    82  \nЖитомирська область          98   113   122   120  \nЗакарпатська область        124   147   151   146  \nЗапорізька область           85   103   106   106  \nІвано-Франківська область   107   123   124   122  \nКиївська область             90   117   122   121  \nКіровоградська область       86   102   110   108  \nЛуганська область            73    95    96    51  \nЛьвівська область           101   113   119   119  \nМиколаївська область         90   112   115   112  \nОдеська область              96   120   127   123  \nПолтавська область           75    97    99   100  \nРівненська область          125   148   159   148  \nСумська область              72    91    97    92  \nТернопільська область        99   113   113   109  \nХарківська область           80    98    99   101  \nХерсонська область           91   113   117   115  \nХмельницька область          91   110   113   112  \nЧеркаська область            77    95   100    98  \nЧернівецька область         106   122   128   129  \nЧернігівська область         75    89    94    90  \nКиїв                         98   116   120   121  \nСевастополь (міськрада)      97   110   120     0  ",
      "text/html": "<div>\n<style scoped>\n    .dataframe tbody tr th:only-of-type {\n        vertical-align: middle;\n    }\n\n    .dataframe tbody tr th {\n        vertical-align: top;\n    }\n\n    .dataframe thead th {\n        text-align: right;\n    }\n</style>\n<table border=\"1\" class=\"dataframe\">\n  <thead>\n    <tr style=\"text-align: right;\">\n      <th></th>\n      <th>1950</th>\n      <th>1960</th>\n      <th>1970</th>\n      <th>1990</th>\n      <th>1992</th>\n      <th>1994</th>\n      <th>1996</th>\n      <th>2000</th>\n      <th>2004</th>\n      <th>2008</th>\n      <th>2012</th>\n      <th>2014</th>\n    </tr>\n    <tr>\n      <th>регіон</th>\n      <th></th>\n      <th></th>\n      <th></th>\n      <th></th>\n      <th></th>\n      <th></th>\n      <th></th>\n      <th></th>\n      <th></th>\n      <th></th>\n      <th></th>\n      <th></th>\n    </tr>\n  </thead>\n  <tbody>\n    <tr>\n      <th>Автономна Республіка Крим</th>\n      <td>230</td>\n      <td>206</td>\n      <td>160</td>\n      <td>130</td>\n      <td>109</td>\n      <td>93</td>\n      <td>80</td>\n      <td>73</td>\n      <td>90</td>\n      <td>119</td>\n      <td>126</td>\n      <td>0</td>\n    </tr>\n    <tr>\n      <th>Вінницька область</th>\n      <td>224</td>\n      <td>192</td>\n      <td>142</td>\n      <td>124</td>\n      <td>119</td>\n      <td>107</td>\n      <td>103</td>\n      <td>84</td>\n      <td>90</td>\n      <td>108</td>\n      <td>112</td>\n      <td>109</td>\n    </tr>\n    <tr>\n      <th>Волинська область</th>\n      <td>247</td>\n      <td>250</td>\n      <td>179</td>\n      <td>153</td>\n      <td>150</td>\n      <td>137</td>\n      <td>125</td>\n      <td>112</td>\n      <td>119</td>\n      <td>148</td>\n      <td>148</td>\n      <td>141</td>\n    </tr>\n    <tr>\n      <th>Дніпропетровська область</th>\n      <td>204</td>\n      <td>204</td>\n      <td>151</td>\n      <td>123</td>\n      <td>106</td>\n      <td>92</td>\n      <td>80</td>\n      <td>71</td>\n      <td>89</td>\n      <td>110</td>\n      <td>112</td>\n      <td>111</td>\n    </tr>\n    <tr>\n      <th>Донецька область</th>\n      <td>271</td>\n      <td>214</td>\n      <td>140</td>\n      <td>109</td>\n      <td>94</td>\n      <td>82</td>\n      <td>70</td>\n      <td>61</td>\n      <td>76</td>\n      <td>98</td>\n      <td>98</td>\n      <td>82</td>\n    </tr>\n    <tr>\n      <th>Житомирська область</th>\n      <td>261</td>\n      <td>223</td>\n      <td>159</td>\n      <td>129</td>\n      <td>128</td>\n      <td>118</td>\n      <td>108</td>\n      <td>89</td>\n      <td>98</td>\n      <td>113</td>\n      <td>122</td>\n      <td>120</td>\n    </tr>\n    <tr>\n      <th>Закарпатська область</th>\n      <td>314</td>\n      <td>273</td>\n      <td>207</td>\n      <td>168</td>\n      <td>161</td>\n      <td>138</td>\n      <td>128</td>\n      <td>115</td>\n      <td>124</td>\n      <td>147</td>\n      <td>151</td>\n      <td>146</td>\n    </tr>\n    <tr>\n      <th>Запорізька область</th>\n      <td>219</td>\n      <td>197</td>\n      <td>150</td>\n      <td>124</td>\n      <td>107</td>\n      <td>92</td>\n      <td>81</td>\n      <td>71</td>\n      <td>85</td>\n      <td>103</td>\n      <td>106</td>\n      <td>106</td>\n    </tr>\n    <tr>\n      <th>Івано-Франківська область</th>\n      <td>243</td>\n      <td>248</td>\n      <td>182</td>\n      <td>155</td>\n      <td>144</td>\n      <td>131</td>\n      <td>122</td>\n      <td>103</td>\n      <td>107</td>\n      <td>123</td>\n      <td>124</td>\n      <td>122</td>\n    </tr>\n    <tr>\n      <th>Київська область</th>\n      <td>204</td>\n      <td>189</td>\n      <td>156</td>\n      <td>123</td>\n      <td>111</td>\n      <td>99</td>\n      <td>92</td>\n      <td>73</td>\n      <td>90</td>\n      <td>117</td>\n      <td>122</td>\n      <td>121</td>\n    </tr>\n    <tr>\n      <th>Кіровоградська область</th>\n      <td>216</td>\n      <td>171</td>\n      <td>145</td>\n      <td>126</td>\n      <td>119</td>\n      <td>107</td>\n      <td>96</td>\n      <td>79</td>\n      <td>86</td>\n      <td>102</td>\n      <td>110</td>\n      <td>108</td>\n    </tr>\n    <tr>\n      <th>Луганська область</th>\n      <td>262</td>\n      <td>235</td>\n      <td>144</td>\n      <td>116</td>\n      <td>101</td>\n      <td>84</td>\n      <td>72</td>\n      <td>62</td>\n      <td>73</td>\n      <td>95</td>\n      <td>96</td>\n      <td>51</td>\n    </tr>\n    <tr>\n      <th>Львівська область</th>\n      <td>234</td>\n      <td>240</td>\n      <td>171</td>\n      <td>140</td>\n      <td>132</td>\n      <td>117</td>\n      <td>111</td>\n      <td>91</td>\n      <td>101</td>\n      <td>113</td>\n      <td>119</td>\n      <td>119</td>\n    </tr>\n    <tr>\n      <th>Миколаївська область</th>\n      <td>211</td>\n      <td>194</td>\n      <td>155</td>\n      <td>137</td>\n      <td>123</td>\n      <td>107</td>\n      <td>96</td>\n      <td>80</td>\n      <td>90</td>\n      <td>112</td>\n      <td>115</td>\n      <td>112</td>\n    </tr>\n    <tr>\n      <th>Одеська область</th>\n      <td>241</td>\n      <td>192</td>\n      <td>148</td>\n      <td>126</td>\n      <td>114</td>\n      <td>100</td>\n      <td>92</td>\n      <td>80</td>\n      <td>96</td>\n      <td>120</td>\n      <td>127</td>\n      <td>123</td>\n    </tr>\n    <tr>\n      <th>Полтавська область</th>\n      <td>186</td>\n      <td>163</td>\n      <td>131</td>\n      <td>118</td>\n      <td>108</td>\n      <td>95</td>\n      <td>88</td>\n      <td>70</td>\n      <td>75</td>\n      <td>97</td>\n      <td>99</td>\n      <td>100</td>\n    </tr>\n    <tr>\n      <th>Рівненська область</th>\n      <td>269</td>\n      <td>267</td>\n      <td>193</td>\n      <td>158</td>\n      <td>154</td>\n      <td>145</td>\n      <td>132</td>\n      <td>118</td>\n      <td>125</td>\n      <td>148</td>\n      <td>159</td>\n      <td>148</td>\n    </tr>\n    <tr>\n      <th>Сумська область</th>\n      <td>216</td>\n      <td>184</td>\n      <td>132</td>\n      <td>115</td>\n      <td>105</td>\n      <td>92</td>\n      <td>84</td>\n      <td>70</td>\n      <td>72</td>\n      <td>91</td>\n      <td>97</td>\n      <td>92</td>\n    </tr>\n    <tr>\n      <th>Тернопільська область</th>\n      <td>213</td>\n      <td>216</td>\n      <td>157</td>\n      <td>142</td>\n      <td>138</td>\n      <td>123</td>\n      <td>115</td>\n      <td>92</td>\n      <td>99</td>\n      <td>113</td>\n      <td>113</td>\n      <td>109</td>\n    </tr>\n    <tr>\n      <th>Харківська область</th>\n      <td>197</td>\n      <td>173</td>\n      <td>140</td>\n      <td>114</td>\n      <td>98</td>\n      <td>83</td>\n      <td>76</td>\n      <td>68</td>\n      <td>80</td>\n      <td>98</td>\n      <td>99</td>\n      <td>101</td>\n    </tr>\n    <tr>\n      <th>Херсонська область</th>\n      <td>208</td>\n      <td>214</td>\n      <td>166</td>\n      <td>143</td>\n      <td>130</td>\n      <td>111</td>\n      <td>98</td>\n      <td>85</td>\n      <td>91</td>\n      <td>113</td>\n      <td>117</td>\n      <td>115</td>\n    </tr>\n    <tr>\n      <th>Хмельницька область</th>\n      <td>234</td>\n      <td>198</td>\n      <td>148</td>\n      <td>129</td>\n      <td>124</td>\n      <td>111</td>\n      <td>106</td>\n      <td>85</td>\n      <td>91</td>\n      <td>110</td>\n      <td>113</td>\n      <td>112</td>\n    </tr>\n    <tr>\n      <th>Черкаська область</th>\n      <td>205</td>\n      <td>179</td>\n      <td>144</td>\n      <td>123</td>\n      <td>114</td>\n      <td>100</td>\n      <td>93</td>\n      <td>75</td>\n      <td>77</td>\n      <td>95</td>\n      <td>100</td>\n      <td>98</td>\n    </tr>\n    <tr>\n      <th>Чернівецька область</th>\n      <td>247</td>\n      <td>218</td>\n      <td>170</td>\n      <td>148</td>\n      <td>140</td>\n      <td>128</td>\n      <td>121</td>\n      <td>101</td>\n      <td>106</td>\n      <td>122</td>\n      <td>128</td>\n      <td>129</td>\n    </tr>\n    <tr>\n      <th>Чернігівська область</th>\n      <td>220</td>\n      <td>183</td>\n      <td>127</td>\n      <td>108</td>\n      <td>98</td>\n      <td>88</td>\n      <td>82</td>\n      <td>69</td>\n      <td>75</td>\n      <td>89</td>\n      <td>94</td>\n      <td>90</td>\n    </tr>\n    <tr>\n      <th>Київ</th>\n      <td>0</td>\n      <td>174</td>\n      <td>159</td>\n      <td>120</td>\n      <td>97</td>\n      <td>81</td>\n      <td>76</td>\n      <td>73</td>\n      <td>98</td>\n      <td>116</td>\n      <td>120</td>\n      <td>121</td>\n    </tr>\n    <tr>\n      <th>Севастополь (міськрада)</th>\n      <td>0</td>\n      <td>0</td>\n      <td>0</td>\n      <td>125</td>\n      <td>96</td>\n      <td>76</td>\n      <td>69</td>\n      <td>70</td>\n      <td>97</td>\n      <td>110</td>\n      <td>120</td>\n      <td>0</td>\n    </tr>\n  </tbody>\n</table>\n</div>"
     },
     "execution_count": 135,
     "metadata": {},
     "output_type": "execute_result"
    }
   ],
   "source": [
    "# 7.\tВидалити дані для всієї країни з таблиці в останньому рядку таблиці\n",
    "df = df.drop(df.index[-1])\n",
    "df"
   ],
   "metadata": {
    "collapsed": false
   }
  },
  {
   "cell_type": "code",
   "execution_count": 141,
   "outputs": [
    {
     "data": {
      "text/plain": "                           1950  1960  1970  1990  1992  1994  1996  2000  \\\nрегіон                                                                      \nАвтономна Республіка Крим   230   206   160   130   109    93    80    73   \nВінницька область           224   192   142   124   119   107   103    84   \nВолинська область           247   250   179   153   150   137   125   112   \nДніпропетровська область    204   204   151   123   106    92    80    71   \nДонецька область            271   214   140   109    94    82    70    61   \nЖитомирська область         261   223   159   129   128   118   108    89   \nЗакарпатська область        314   273   207   168   161   138   128   115   \nЗапорізька область          219   197   150   124   107    92    81    71   \nІвано-Франківська область   243   248   182   155   144   131   122   103   \nКиївська область            204   189   156   123   111    99    92    73   \nКіровоградська область      216   171   145   126   119   107    96    79   \nЛуганська область           262   235   144   116   101    84    72    62   \nЛьвівська область           234   240   171   140   132   117   111    91   \nМиколаївська область        211   194   155   137   123   107    96    80   \nОдеська область             241   192   148   126   114   100    92    80   \nПолтавська область          186   163   131   118   108    95    88    70   \nРівненська область          269   267   193   158   154   145   132   118   \nСумська область             216   184   132   115   105    92    84    70   \nТернопільська область       213   216   157   142   138   123   115    92   \nХарківська область          197   173   140   114    98    83    76    68   \nХерсонська область          208   214   166   143   130   111    98    85   \nХмельницька область         234   198   148   129   124   111   106    85   \nЧеркаська область           205   179   144   123   114   100    93    75   \nЧернівецька область         247   218   170   148   140   128   121   101   \nЧернігівська область        220   183   127   108    98    88    82    69   \nКиїв                          0   174   159   120    97    81    76    73   \nСевастополь (міськрада)       0     0     0   125    96    76    69    70   \n\n                           2004  2008  2012  2014  \nрегіон                                             \nАвтономна Республіка Крим    90   119   126     0  \nВінницька область            90   108   112   109  \nВолинська область           119   148   148   141  \nДніпропетровська область     89   110   112   111  \nДонецька область             76    98    98    82  \nЖитомирська область          98   113   122   120  \nЗакарпатська область        124   147   151   146  \nЗапорізька область           85   103   106   106  \nІвано-Франківська область   107   123   124   122  \nКиївська область             90   117   122   121  \nКіровоградська область       86   102   110   108  \nЛуганська область            73    95    96    51  \nЛьвівська область           101   113   119   119  \nМиколаївська область         90   112   115   112  \nОдеська область              96   120   127   123  \nПолтавська область           75    97    99   100  \nРівненська область          125   148   159   148  \nСумська область              72    91    97    92  \nТернопільська область        99   113   113   109  \nХарківська область           80    98    99   101  \nХерсонська область           91   113   117   115  \nХмельницька область          91   110   113   112  \nЧеркаська область            77    95   100    98  \nЧернівецька область         106   122   128   129  \nЧернігівська область         75    89    94    90  \nКиїв                         98   116   120   121  \nСевастополь (міськрада)      97   110   120     0  ",
      "text/html": "<div>\n<style scoped>\n    .dataframe tbody tr th:only-of-type {\n        vertical-align: middle;\n    }\n\n    .dataframe tbody tr th {\n        vertical-align: top;\n    }\n\n    .dataframe thead th {\n        text-align: right;\n    }\n</style>\n<table border=\"1\" class=\"dataframe\">\n  <thead>\n    <tr style=\"text-align: right;\">\n      <th></th>\n      <th>1950</th>\n      <th>1960</th>\n      <th>1970</th>\n      <th>1990</th>\n      <th>1992</th>\n      <th>1994</th>\n      <th>1996</th>\n      <th>2000</th>\n      <th>2004</th>\n      <th>2008</th>\n      <th>2012</th>\n      <th>2014</th>\n    </tr>\n    <tr>\n      <th>регіон</th>\n      <th></th>\n      <th></th>\n      <th></th>\n      <th></th>\n      <th></th>\n      <th></th>\n      <th></th>\n      <th></th>\n      <th></th>\n      <th></th>\n      <th></th>\n      <th></th>\n    </tr>\n  </thead>\n  <tbody>\n    <tr>\n      <th>Автономна Республіка Крим</th>\n      <td>230</td>\n      <td>206</td>\n      <td>160</td>\n      <td>130</td>\n      <td>109</td>\n      <td>93</td>\n      <td>80</td>\n      <td>73</td>\n      <td>90</td>\n      <td>119</td>\n      <td>126</td>\n      <td>0</td>\n    </tr>\n    <tr>\n      <th>Вінницька область</th>\n      <td>224</td>\n      <td>192</td>\n      <td>142</td>\n      <td>124</td>\n      <td>119</td>\n      <td>107</td>\n      <td>103</td>\n      <td>84</td>\n      <td>90</td>\n      <td>108</td>\n      <td>112</td>\n      <td>109</td>\n    </tr>\n    <tr>\n      <th>Волинська область</th>\n      <td>247</td>\n      <td>250</td>\n      <td>179</td>\n      <td>153</td>\n      <td>150</td>\n      <td>137</td>\n      <td>125</td>\n      <td>112</td>\n      <td>119</td>\n      <td>148</td>\n      <td>148</td>\n      <td>141</td>\n    </tr>\n    <tr>\n      <th>Дніпропетровська область</th>\n      <td>204</td>\n      <td>204</td>\n      <td>151</td>\n      <td>123</td>\n      <td>106</td>\n      <td>92</td>\n      <td>80</td>\n      <td>71</td>\n      <td>89</td>\n      <td>110</td>\n      <td>112</td>\n      <td>111</td>\n    </tr>\n    <tr>\n      <th>Донецька область</th>\n      <td>271</td>\n      <td>214</td>\n      <td>140</td>\n      <td>109</td>\n      <td>94</td>\n      <td>82</td>\n      <td>70</td>\n      <td>61</td>\n      <td>76</td>\n      <td>98</td>\n      <td>98</td>\n      <td>82</td>\n    </tr>\n    <tr>\n      <th>Житомирська область</th>\n      <td>261</td>\n      <td>223</td>\n      <td>159</td>\n      <td>129</td>\n      <td>128</td>\n      <td>118</td>\n      <td>108</td>\n      <td>89</td>\n      <td>98</td>\n      <td>113</td>\n      <td>122</td>\n      <td>120</td>\n    </tr>\n    <tr>\n      <th>Закарпатська область</th>\n      <td>314</td>\n      <td>273</td>\n      <td>207</td>\n      <td>168</td>\n      <td>161</td>\n      <td>138</td>\n      <td>128</td>\n      <td>115</td>\n      <td>124</td>\n      <td>147</td>\n      <td>151</td>\n      <td>146</td>\n    </tr>\n    <tr>\n      <th>Запорізька область</th>\n      <td>219</td>\n      <td>197</td>\n      <td>150</td>\n      <td>124</td>\n      <td>107</td>\n      <td>92</td>\n      <td>81</td>\n      <td>71</td>\n      <td>85</td>\n      <td>103</td>\n      <td>106</td>\n      <td>106</td>\n    </tr>\n    <tr>\n      <th>Івано-Франківська область</th>\n      <td>243</td>\n      <td>248</td>\n      <td>182</td>\n      <td>155</td>\n      <td>144</td>\n      <td>131</td>\n      <td>122</td>\n      <td>103</td>\n      <td>107</td>\n      <td>123</td>\n      <td>124</td>\n      <td>122</td>\n    </tr>\n    <tr>\n      <th>Київська область</th>\n      <td>204</td>\n      <td>189</td>\n      <td>156</td>\n      <td>123</td>\n      <td>111</td>\n      <td>99</td>\n      <td>92</td>\n      <td>73</td>\n      <td>90</td>\n      <td>117</td>\n      <td>122</td>\n      <td>121</td>\n    </tr>\n    <tr>\n      <th>Кіровоградська область</th>\n      <td>216</td>\n      <td>171</td>\n      <td>145</td>\n      <td>126</td>\n      <td>119</td>\n      <td>107</td>\n      <td>96</td>\n      <td>79</td>\n      <td>86</td>\n      <td>102</td>\n      <td>110</td>\n      <td>108</td>\n    </tr>\n    <tr>\n      <th>Луганська область</th>\n      <td>262</td>\n      <td>235</td>\n      <td>144</td>\n      <td>116</td>\n      <td>101</td>\n      <td>84</td>\n      <td>72</td>\n      <td>62</td>\n      <td>73</td>\n      <td>95</td>\n      <td>96</td>\n      <td>51</td>\n    </tr>\n    <tr>\n      <th>Львівська область</th>\n      <td>234</td>\n      <td>240</td>\n      <td>171</td>\n      <td>140</td>\n      <td>132</td>\n      <td>117</td>\n      <td>111</td>\n      <td>91</td>\n      <td>101</td>\n      <td>113</td>\n      <td>119</td>\n      <td>119</td>\n    </tr>\n    <tr>\n      <th>Миколаївська область</th>\n      <td>211</td>\n      <td>194</td>\n      <td>155</td>\n      <td>137</td>\n      <td>123</td>\n      <td>107</td>\n      <td>96</td>\n      <td>80</td>\n      <td>90</td>\n      <td>112</td>\n      <td>115</td>\n      <td>112</td>\n    </tr>\n    <tr>\n      <th>Одеська область</th>\n      <td>241</td>\n      <td>192</td>\n      <td>148</td>\n      <td>126</td>\n      <td>114</td>\n      <td>100</td>\n      <td>92</td>\n      <td>80</td>\n      <td>96</td>\n      <td>120</td>\n      <td>127</td>\n      <td>123</td>\n    </tr>\n    <tr>\n      <th>Полтавська область</th>\n      <td>186</td>\n      <td>163</td>\n      <td>131</td>\n      <td>118</td>\n      <td>108</td>\n      <td>95</td>\n      <td>88</td>\n      <td>70</td>\n      <td>75</td>\n      <td>97</td>\n      <td>99</td>\n      <td>100</td>\n    </tr>\n    <tr>\n      <th>Рівненська область</th>\n      <td>269</td>\n      <td>267</td>\n      <td>193</td>\n      <td>158</td>\n      <td>154</td>\n      <td>145</td>\n      <td>132</td>\n      <td>118</td>\n      <td>125</td>\n      <td>148</td>\n      <td>159</td>\n      <td>148</td>\n    </tr>\n    <tr>\n      <th>Сумська область</th>\n      <td>216</td>\n      <td>184</td>\n      <td>132</td>\n      <td>115</td>\n      <td>105</td>\n      <td>92</td>\n      <td>84</td>\n      <td>70</td>\n      <td>72</td>\n      <td>91</td>\n      <td>97</td>\n      <td>92</td>\n    </tr>\n    <tr>\n      <th>Тернопільська область</th>\n      <td>213</td>\n      <td>216</td>\n      <td>157</td>\n      <td>142</td>\n      <td>138</td>\n      <td>123</td>\n      <td>115</td>\n      <td>92</td>\n      <td>99</td>\n      <td>113</td>\n      <td>113</td>\n      <td>109</td>\n    </tr>\n    <tr>\n      <th>Харківська область</th>\n      <td>197</td>\n      <td>173</td>\n      <td>140</td>\n      <td>114</td>\n      <td>98</td>\n      <td>83</td>\n      <td>76</td>\n      <td>68</td>\n      <td>80</td>\n      <td>98</td>\n      <td>99</td>\n      <td>101</td>\n    </tr>\n    <tr>\n      <th>Херсонська область</th>\n      <td>208</td>\n      <td>214</td>\n      <td>166</td>\n      <td>143</td>\n      <td>130</td>\n      <td>111</td>\n      <td>98</td>\n      <td>85</td>\n      <td>91</td>\n      <td>113</td>\n      <td>117</td>\n      <td>115</td>\n    </tr>\n    <tr>\n      <th>Хмельницька область</th>\n      <td>234</td>\n      <td>198</td>\n      <td>148</td>\n      <td>129</td>\n      <td>124</td>\n      <td>111</td>\n      <td>106</td>\n      <td>85</td>\n      <td>91</td>\n      <td>110</td>\n      <td>113</td>\n      <td>112</td>\n    </tr>\n    <tr>\n      <th>Черкаська область</th>\n      <td>205</td>\n      <td>179</td>\n      <td>144</td>\n      <td>123</td>\n      <td>114</td>\n      <td>100</td>\n      <td>93</td>\n      <td>75</td>\n      <td>77</td>\n      <td>95</td>\n      <td>100</td>\n      <td>98</td>\n    </tr>\n    <tr>\n      <th>Чернівецька область</th>\n      <td>247</td>\n      <td>218</td>\n      <td>170</td>\n      <td>148</td>\n      <td>140</td>\n      <td>128</td>\n      <td>121</td>\n      <td>101</td>\n      <td>106</td>\n      <td>122</td>\n      <td>128</td>\n      <td>129</td>\n    </tr>\n    <tr>\n      <th>Чернігівська область</th>\n      <td>220</td>\n      <td>183</td>\n      <td>127</td>\n      <td>108</td>\n      <td>98</td>\n      <td>88</td>\n      <td>82</td>\n      <td>69</td>\n      <td>75</td>\n      <td>89</td>\n      <td>94</td>\n      <td>90</td>\n    </tr>\n    <tr>\n      <th>Київ</th>\n      <td>0</td>\n      <td>174</td>\n      <td>159</td>\n      <td>120</td>\n      <td>97</td>\n      <td>81</td>\n      <td>76</td>\n      <td>73</td>\n      <td>98</td>\n      <td>116</td>\n      <td>120</td>\n      <td>121</td>\n    </tr>\n    <tr>\n      <th>Севастополь (міськрада)</th>\n      <td>0</td>\n      <td>0</td>\n      <td>0</td>\n      <td>125</td>\n      <td>96</td>\n      <td>76</td>\n      <td>69</td>\n      <td>70</td>\n      <td>97</td>\n      <td>110</td>\n      <td>120</td>\n      <td>0</td>\n    </tr>\n  </tbody>\n</table>\n</div>"
     },
     "execution_count": 141,
     "metadata": {},
     "output_type": "execute_result"
    }
   ],
   "source": [
    "# 8.\tЗамінити пропущені дані у стовпцях середніми значеннями за стовпчиком  (метод fillna)\n",
    "df_n = df.fillna(df.mean())\n",
    "df_n\n"
   ],
   "metadata": {
    "collapsed": false
   }
  },
  {
   "cell_type": "code",
   "execution_count": 147,
   "outputs": [
    {
     "data": {
      "text/plain": "                           2014\nрегіон                         \nВінницька область           109\nВолинська область           141\nДніпропетровська область    111\nДонецька область             82\nЖитомирська область         120\nЗакарпатська область        146\nЗапорізька область          106\nІвано-Франківська область   122\nКиївська область            121\nКіровоградська область      108\nЛуганська область            51\nЛьвівська область           119\nМиколаївська область        112\nОдеська область             123\nПолтавська область          100\nРівненська область          148\nСумська область              92\nТернопільська область       109\nХарківська область          101\nХерсонська область          115\nХмельницька область         112\nЧеркаська область            98\nЧернівецька область         129\nЧернігівська область         90\nКиїв                        121",
      "text/html": "<div>\n<style scoped>\n    .dataframe tbody tr th:only-of-type {\n        vertical-align: middle;\n    }\n\n    .dataframe tbody tr th {\n        vertical-align: top;\n    }\n\n    .dataframe thead th {\n        text-align: right;\n    }\n</style>\n<table border=\"1\" class=\"dataframe\">\n  <thead>\n    <tr style=\"text-align: right;\">\n      <th></th>\n      <th>2014</th>\n    </tr>\n    <tr>\n      <th>регіон</th>\n      <th></th>\n    </tr>\n  </thead>\n  <tbody>\n    <tr>\n      <th>Вінницька область</th>\n      <td>109</td>\n    </tr>\n    <tr>\n      <th>Волинська область</th>\n      <td>141</td>\n    </tr>\n    <tr>\n      <th>Дніпропетровська область</th>\n      <td>111</td>\n    </tr>\n    <tr>\n      <th>Донецька область</th>\n      <td>82</td>\n    </tr>\n    <tr>\n      <th>Житомирська область</th>\n      <td>120</td>\n    </tr>\n    <tr>\n      <th>Закарпатська область</th>\n      <td>146</td>\n    </tr>\n    <tr>\n      <th>Запорізька область</th>\n      <td>106</td>\n    </tr>\n    <tr>\n      <th>Івано-Франківська область</th>\n      <td>122</td>\n    </tr>\n    <tr>\n      <th>Київська область</th>\n      <td>121</td>\n    </tr>\n    <tr>\n      <th>Кіровоградська область</th>\n      <td>108</td>\n    </tr>\n    <tr>\n      <th>Луганська область</th>\n      <td>51</td>\n    </tr>\n    <tr>\n      <th>Львівська область</th>\n      <td>119</td>\n    </tr>\n    <tr>\n      <th>Миколаївська область</th>\n      <td>112</td>\n    </tr>\n    <tr>\n      <th>Одеська область</th>\n      <td>123</td>\n    </tr>\n    <tr>\n      <th>Полтавська область</th>\n      <td>100</td>\n    </tr>\n    <tr>\n      <th>Рівненська область</th>\n      <td>148</td>\n    </tr>\n    <tr>\n      <th>Сумська область</th>\n      <td>92</td>\n    </tr>\n    <tr>\n      <th>Тернопільська область</th>\n      <td>109</td>\n    </tr>\n    <tr>\n      <th>Харківська область</th>\n      <td>101</td>\n    </tr>\n    <tr>\n      <th>Херсонська область</th>\n      <td>115</td>\n    </tr>\n    <tr>\n      <th>Хмельницька область</th>\n      <td>112</td>\n    </tr>\n    <tr>\n      <th>Черкаська область</th>\n      <td>98</td>\n    </tr>\n    <tr>\n      <th>Чернівецька область</th>\n      <td>129</td>\n    </tr>\n    <tr>\n      <th>Чернігівська область</th>\n      <td>90</td>\n    </tr>\n    <tr>\n      <th>Київ</th>\n      <td>121</td>\n    </tr>\n  </tbody>\n</table>\n</div>"
     },
     "execution_count": 147,
     "metadata": {},
     "output_type": "execute_result"
    }
   ],
   "source": [
    "# 9.\tОтримайте список регіонів, де народжуваність у 2014 році була вищою за середню по Україні\n",
    "df_n.loc[df_n[\"2014\"]>df_n.iloc[0][\"2014\"],[\"2014\"]]\n",
    "#"
   ],
   "metadata": {
    "collapsed": false
   }
  },
  {
   "cell_type": "code",
   "execution_count": 157,
   "outputs": [
    {
     "data": {
      "text/plain": "регіон\nВолинська область     148\nРівненська область    148\nName: 2008, dtype: int32"
     },
     "execution_count": 157,
     "metadata": {},
     "output_type": "execute_result"
    }
   ],
   "source": [
    "# 10.\tВ якому регіоні була найвища народжуваність у 2010 та 2012 роках (окремо).\n",
    "\n",
    "df_n[df_n[\"2008\"] == df_n[\"2008\"].max()][\"2008\"]\n",
    "\n"
   ],
   "metadata": {
    "collapsed": false
   }
  },
  {
   "cell_type": "code",
   "execution_count": 158,
   "outputs": [
    {
     "data": {
      "text/plain": "регіон\nРівненська область    159\nName: 2012, dtype: int32"
     },
     "execution_count": 158,
     "metadata": {},
     "output_type": "execute_result"
    }
   ],
   "source": [
    "# 10.\tВ якому регіоні була найвища народжуваність у 2010 та 2012 роках (окремо).\n",
    "df_n[df_n[\"2012\"] == df_n[\"2012\"].max()][\"2012\"]"
   ],
   "metadata": {
    "collapsed": false
   }
  },
  {
   "cell_type": "code",
   "execution_count": 172,
   "outputs": [
    {
     "data": {
      "text/plain": "Text(0, 0.5, 'Народжуваність')"
     },
     "execution_count": 172,
     "metadata": {},
     "output_type": "execute_result"
    },
    {
     "data": {
      "text/plain": "<Figure size 640x480 with 1 Axes>",
      "image/png": "[encoded data removed]"
     },
     "metadata": {},
     "output_type": "display_data"
    }
   ],
   "source": [
    "# 11.\tПобудуйте стовпчасту народжуваності за регіонами у 2014 році\n",
    "\n",
    "import matplotlib.pyplot as plt\n",
    "df[\"2014\"].plot(kind=\"hist\", bins=20, edgecolor='k')\n",
    "plt.xlabel('Регіони')\n",
    "plt.ylabel('Народжуваність')\n"
   ],
   "metadata": {
    "collapsed": false
   }
  }
 ],
 "metadata": {
  "kernelspec": {
   "display_name": "Python 3",
   "language": "python",
   "name": "python3"
  },
  "language_info": {
   "codemirror_mode": {
    "name": "ipython",
    "version": 3
   },
   "file_extension": ".py",
   "mimetype": "text/x-python",
   "name": "python",
   "nbconvert_exporter": "python",
   "pygments_lexer": "ipython3",
   "version": "3.9.13"
  },
  "orig_nbformat": 4
 },
 "nbformat": 4,
 "nbformat_minor": 2
}
